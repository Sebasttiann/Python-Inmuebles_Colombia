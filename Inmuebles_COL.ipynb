{
  "nbformat": 4,
  "nbformat_minor": 0,
  "metadata": {
    "colab": {
      "provenance": [],
      "include_colab_link": true
    },
    "kernelspec": {
      "name": "python3",
      "display_name": "Python 3"
    },
    "language_info": {
      "name": "python"
    }
  },
  "cells": [
    {
      "cell_type": "markdown",
      "metadata": {
        "id": "view-in-github",
        "colab_type": "text"
      },
      "source": [
        "<a href=\"https://colab.research.google.com/github/Sebasttiann/Python-Inmuebles_Colombia/blob/main/Inmuebles_COL.ipynb\" target=\"_parent\"><img src=\"https://colab.research.google.com/assets/colab-badge.svg\" alt=\"Open In Colab\"/></a>"
      ]
    },
    {
      "cell_type": "code",
      "execution_count": null,
      "metadata": {
        "colab": {
          "base_uri": "https://localhost:8080/"
        },
        "id": "Jx1f3SXAmb5c",
        "outputId": "1fcf6f5c-1aac-49f9-93f1-880ad47f3460"
      },
      "outputs": [
        {
          "output_type": "stream",
          "name": "stdout",
          "text": [
            "Drive already mounted at /content/drive; to attempt to forcibly remount, call drive.mount(\"/content/drive\", force_remount=True).\n"
          ]
        }
      ],
      "source": [
        "from google.colab import drive\n",
        "import pandas as pd\n",
        "\n",
        "drive.mount('/content/drive')\n",
        "\n",
        "inmuebles = pd.read_csv('/content/drive/MyDrive/inmuebles_bogota.csv')"
      ]
    },
    {
      "cell_type": "code",
      "source": [
        "columnas = {'Baños':'Banos','Área':'Area'}\n",
        "inmuebles = inmuebles.rename(columns=columnas)"
      ],
      "metadata": {
        "id": "Jnk7Fu3CmuIQ"
      },
      "execution_count": null,
      "outputs": []
    },
    {
      "cell_type": "code",
      "source": [
        "inmuebles.sample(5)"
      ],
      "metadata": {
        "colab": {
          "base_uri": "https://localhost:8080/",
          "height": 206
        },
        "id": "aEvvRYjm0dN9",
        "outputId": "7ffbb973-0217-4f07-95ce-1fd129262ab3"
      },
      "execution_count": null,
      "outputs": [
        {
          "output_type": "execute_result",
          "data": {
            "text/plain": [
              "             Tipo                            Descripcion  Habitaciones  Banos  \\\n",
              "3392         Casa       Casa en venta en Chico Reservado             4      4   \n",
              "918   Apartamento       Apartamento en venta en Engativa             3      2   \n",
              "1031  Apartamento  Apartamento en venta en Santa Barbara             3      5   \n",
              "8665  Apartamento  Apartamento en venta en Santa Barbara             2      2   \n",
              "6621  Apartamento        Apartamento en venta en Usaquén             3      2   \n",
              "\n",
              "      Area           Barrio                                    UPZ  \\\n",
              "3392   285  Chico Reservado     CHAPINERO: Chicó Lago + El Refugio   \n",
              "918     75         Engativa                               Engativá   \n",
              "1031   342    Santa Barbara  USAQUÉN: Country Club + Santa Bárbara   \n",
              "8665    75    Santa Barbara  USAQUÉN: Country Club + Santa Bárbara   \n",
              "6621    56          Usaquén                                Usaquén   \n",
              "\n",
              "                Valor  \n",
              "3392    $ 870.000.000  \n",
              "918     $ 413.500.000  \n",
              "1031  $ 1.190.000.000  \n",
              "8665    $ 389.708.000  \n",
              "6621    $ 220.800.000  "
            ],
            "text/html": [
              "\n",
              "  <div id=\"df-fbbd0411-7406-449d-b691-f51bfa7759a9\">\n",
              "    <div class=\"colab-df-container\">\n",
              "      <div>\n",
              "<style scoped>\n",
              "    .dataframe tbody tr th:only-of-type {\n",
              "        vertical-align: middle;\n",
              "    }\n",
              "\n",
              "    .dataframe tbody tr th {\n",
              "        vertical-align: top;\n",
              "    }\n",
              "\n",
              "    .dataframe thead th {\n",
              "        text-align: right;\n",
              "    }\n",
              "</style>\n",
              "<table border=\"1\" class=\"dataframe\">\n",
              "  <thead>\n",
              "    <tr style=\"text-align: right;\">\n",
              "      <th></th>\n",
              "      <th>Tipo</th>\n",
              "      <th>Descripcion</th>\n",
              "      <th>Habitaciones</th>\n",
              "      <th>Banos</th>\n",
              "      <th>Area</th>\n",
              "      <th>Barrio</th>\n",
              "      <th>UPZ</th>\n",
              "      <th>Valor</th>\n",
              "    </tr>\n",
              "  </thead>\n",
              "  <tbody>\n",
              "    <tr>\n",
              "      <th>3392</th>\n",
              "      <td>Casa</td>\n",
              "      <td>Casa en venta en Chico Reservado</td>\n",
              "      <td>4</td>\n",
              "      <td>4</td>\n",
              "      <td>285</td>\n",
              "      <td>Chico Reservado</td>\n",
              "      <td>CHAPINERO: Chicó Lago + El Refugio</td>\n",
              "      <td>$ 870.000.000</td>\n",
              "    </tr>\n",
              "    <tr>\n",
              "      <th>918</th>\n",
              "      <td>Apartamento</td>\n",
              "      <td>Apartamento en venta en Engativa</td>\n",
              "      <td>3</td>\n",
              "      <td>2</td>\n",
              "      <td>75</td>\n",
              "      <td>Engativa</td>\n",
              "      <td>Engativá</td>\n",
              "      <td>$ 413.500.000</td>\n",
              "    </tr>\n",
              "    <tr>\n",
              "      <th>1031</th>\n",
              "      <td>Apartamento</td>\n",
              "      <td>Apartamento en venta en Santa Barbara</td>\n",
              "      <td>3</td>\n",
              "      <td>5</td>\n",
              "      <td>342</td>\n",
              "      <td>Santa Barbara</td>\n",
              "      <td>USAQUÉN: Country Club + Santa Bárbara</td>\n",
              "      <td>$ 1.190.000.000</td>\n",
              "    </tr>\n",
              "    <tr>\n",
              "      <th>8665</th>\n",
              "      <td>Apartamento</td>\n",
              "      <td>Apartamento en venta en Santa Barbara</td>\n",
              "      <td>2</td>\n",
              "      <td>2</td>\n",
              "      <td>75</td>\n",
              "      <td>Santa Barbara</td>\n",
              "      <td>USAQUÉN: Country Club + Santa Bárbara</td>\n",
              "      <td>$ 389.708.000</td>\n",
              "    </tr>\n",
              "    <tr>\n",
              "      <th>6621</th>\n",
              "      <td>Apartamento</td>\n",
              "      <td>Apartamento en venta en Usaquén</td>\n",
              "      <td>3</td>\n",
              "      <td>2</td>\n",
              "      <td>56</td>\n",
              "      <td>Usaquén</td>\n",
              "      <td>Usaquén</td>\n",
              "      <td>$ 220.800.000</td>\n",
              "    </tr>\n",
              "  </tbody>\n",
              "</table>\n",
              "</div>\n",
              "      <button class=\"colab-df-convert\" onclick=\"convertToInteractive('df-fbbd0411-7406-449d-b691-f51bfa7759a9')\"\n",
              "              title=\"Convert this dataframe to an interactive table.\"\n",
              "              style=\"display:none;\">\n",
              "        \n",
              "  <svg xmlns=\"http://www.w3.org/2000/svg\" height=\"24px\"viewBox=\"0 0 24 24\"\n",
              "       width=\"24px\">\n",
              "    <path d=\"M0 0h24v24H0V0z\" fill=\"none\"/>\n",
              "    <path d=\"M18.56 5.44l.94 2.06.94-2.06 2.06-.94-2.06-.94-.94-2.06-.94 2.06-2.06.94zm-11 1L8.5 8.5l.94-2.06 2.06-.94-2.06-.94L8.5 2.5l-.94 2.06-2.06.94zm10 10l.94 2.06.94-2.06 2.06-.94-2.06-.94-.94-2.06-.94 2.06-2.06.94z\"/><path d=\"M17.41 7.96l-1.37-1.37c-.4-.4-.92-.59-1.43-.59-.52 0-1.04.2-1.43.59L10.3 9.45l-7.72 7.72c-.78.78-.78 2.05 0 2.83L4 21.41c.39.39.9.59 1.41.59.51 0 1.02-.2 1.41-.59l7.78-7.78 2.81-2.81c.8-.78.8-2.07 0-2.86zM5.41 20L4 18.59l7.72-7.72 1.47 1.35L5.41 20z\"/>\n",
              "  </svg>\n",
              "      </button>\n",
              "      \n",
              "  <style>\n",
              "    .colab-df-container {\n",
              "      display:flex;\n",
              "      flex-wrap:wrap;\n",
              "      gap: 12px;\n",
              "    }\n",
              "\n",
              "    .colab-df-convert {\n",
              "      background-color: #E8F0FE;\n",
              "      border: none;\n",
              "      border-radius: 50%;\n",
              "      cursor: pointer;\n",
              "      display: none;\n",
              "      fill: #1967D2;\n",
              "      height: 32px;\n",
              "      padding: 0 0 0 0;\n",
              "      width: 32px;\n",
              "    }\n",
              "\n",
              "    .colab-df-convert:hover {\n",
              "      background-color: #E2EBFA;\n",
              "      box-shadow: 0px 1px 2px rgba(60, 64, 67, 0.3), 0px 1px 3px 1px rgba(60, 64, 67, 0.15);\n",
              "      fill: #174EA6;\n",
              "    }\n",
              "\n",
              "    [theme=dark] .colab-df-convert {\n",
              "      background-color: #3B4455;\n",
              "      fill: #D2E3FC;\n",
              "    }\n",
              "\n",
              "    [theme=dark] .colab-df-convert:hover {\n",
              "      background-color: #434B5C;\n",
              "      box-shadow: 0px 1px 3px 1px rgba(0, 0, 0, 0.15);\n",
              "      filter: drop-shadow(0px 1px 2px rgba(0, 0, 0, 0.3));\n",
              "      fill: #FFFFFF;\n",
              "    }\n",
              "  </style>\n",
              "\n",
              "      <script>\n",
              "        const buttonEl =\n",
              "          document.querySelector('#df-fbbd0411-7406-449d-b691-f51bfa7759a9 button.colab-df-convert');\n",
              "        buttonEl.style.display =\n",
              "          google.colab.kernel.accessAllowed ? 'block' : 'none';\n",
              "\n",
              "        async function convertToInteractive(key) {\n",
              "          const element = document.querySelector('#df-fbbd0411-7406-449d-b691-f51bfa7759a9');\n",
              "          const dataTable =\n",
              "            await google.colab.kernel.invokeFunction('convertToInteractive',\n",
              "                                                     [key], {});\n",
              "          if (!dataTable) return;\n",
              "\n",
              "          const docLinkHtml = 'Like what you see? Visit the ' +\n",
              "            '<a target=\"_blank\" href=https://colab.research.google.com/notebooks/data_table.ipynb>data table notebook</a>'\n",
              "            + ' to learn more about interactive tables.';\n",
              "          element.innerHTML = '';\n",
              "          dataTable['output_type'] = 'display_data';\n",
              "          await google.colab.output.renderOutput(dataTable, element);\n",
              "          const docLink = document.createElement('div');\n",
              "          docLink.innerHTML = docLinkHtml;\n",
              "          element.appendChild(docLink);\n",
              "        }\n",
              "      </script>\n",
              "    </div>\n",
              "  </div>\n",
              "  "
            ]
          },
          "metadata": {},
          "execution_count": 33
        }
      ]
    },
    {
      "cell_type": "markdown",
      "source": [
        "Para sacar el area promedio agrupamos con .groupby nuestro data diciendole que agrupo por Barrios y luego en la columna Area obtenemos el promedio con .mean - Plus: el reset index es para reiniciar el indice y que no tome la ciudad como indices para cada dato si no que lo tome como la columna que es."
      ],
      "metadata": {
        "id": "7NNsRFE8yGZs"
      }
    },
    {
      "cell_type": "code",
      "source": [
        "area_promedio_barrio = inmuebles.groupby(\"Barrio\")[\"Area\"].mean().reset_index()\n",
        "area_promedio_barrio.head()"
      ],
      "metadata": {
        "colab": {
          "base_uri": "https://localhost:8080/",
          "height": 206
        },
        "id": "eSaHspB9nROS",
        "outputId": "50125c98-a833-4e69-fd74-647f0b0f4b06"
      },
      "execution_count": null,
      "outputs": [
        {
          "output_type": "execute_result",
          "data": {
            "text/plain": [
              "           Barrio        Area\n",
              "0         Alameda   97.000000\n",
              "1        Alhambra  190.411765\n",
              "2     Andes Norte  124.857143\n",
              "3  Antonio Nariño  163.062500\n",
              "4       Barrancas   70.200000"
            ],
            "text/html": [
              "\n",
              "  <div id=\"df-f521c881-dc20-43c5-a082-ade47167d888\">\n",
              "    <div class=\"colab-df-container\">\n",
              "      <div>\n",
              "<style scoped>\n",
              "    .dataframe tbody tr th:only-of-type {\n",
              "        vertical-align: middle;\n",
              "    }\n",
              "\n",
              "    .dataframe tbody tr th {\n",
              "        vertical-align: top;\n",
              "    }\n",
              "\n",
              "    .dataframe thead th {\n",
              "        text-align: right;\n",
              "    }\n",
              "</style>\n",
              "<table border=\"1\" class=\"dataframe\">\n",
              "  <thead>\n",
              "    <tr style=\"text-align: right;\">\n",
              "      <th></th>\n",
              "      <th>Barrio</th>\n",
              "      <th>Area</th>\n",
              "    </tr>\n",
              "  </thead>\n",
              "  <tbody>\n",
              "    <tr>\n",
              "      <th>0</th>\n",
              "      <td>Alameda</td>\n",
              "      <td>97.000000</td>\n",
              "    </tr>\n",
              "    <tr>\n",
              "      <th>1</th>\n",
              "      <td>Alhambra</td>\n",
              "      <td>190.411765</td>\n",
              "    </tr>\n",
              "    <tr>\n",
              "      <th>2</th>\n",
              "      <td>Andes Norte</td>\n",
              "      <td>124.857143</td>\n",
              "    </tr>\n",
              "    <tr>\n",
              "      <th>3</th>\n",
              "      <td>Antonio Nariño</td>\n",
              "      <td>163.062500</td>\n",
              "    </tr>\n",
              "    <tr>\n",
              "      <th>4</th>\n",
              "      <td>Barrancas</td>\n",
              "      <td>70.200000</td>\n",
              "    </tr>\n",
              "  </tbody>\n",
              "</table>\n",
              "</div>\n",
              "      <button class=\"colab-df-convert\" onclick=\"convertToInteractive('df-f521c881-dc20-43c5-a082-ade47167d888')\"\n",
              "              title=\"Convert this dataframe to an interactive table.\"\n",
              "              style=\"display:none;\">\n",
              "        \n",
              "  <svg xmlns=\"http://www.w3.org/2000/svg\" height=\"24px\"viewBox=\"0 0 24 24\"\n",
              "       width=\"24px\">\n",
              "    <path d=\"M0 0h24v24H0V0z\" fill=\"none\"/>\n",
              "    <path d=\"M18.56 5.44l.94 2.06.94-2.06 2.06-.94-2.06-.94-.94-2.06-.94 2.06-2.06.94zm-11 1L8.5 8.5l.94-2.06 2.06-.94-2.06-.94L8.5 2.5l-.94 2.06-2.06.94zm10 10l.94 2.06.94-2.06 2.06-.94-2.06-.94-.94-2.06-.94 2.06-2.06.94z\"/><path d=\"M17.41 7.96l-1.37-1.37c-.4-.4-.92-.59-1.43-.59-.52 0-1.04.2-1.43.59L10.3 9.45l-7.72 7.72c-.78.78-.78 2.05 0 2.83L4 21.41c.39.39.9.59 1.41.59.51 0 1.02-.2 1.41-.59l7.78-7.78 2.81-2.81c.8-.78.8-2.07 0-2.86zM5.41 20L4 18.59l7.72-7.72 1.47 1.35L5.41 20z\"/>\n",
              "  </svg>\n",
              "      </button>\n",
              "      \n",
              "  <style>\n",
              "    .colab-df-container {\n",
              "      display:flex;\n",
              "      flex-wrap:wrap;\n",
              "      gap: 12px;\n",
              "    }\n",
              "\n",
              "    .colab-df-convert {\n",
              "      background-color: #E8F0FE;\n",
              "      border: none;\n",
              "      border-radius: 50%;\n",
              "      cursor: pointer;\n",
              "      display: none;\n",
              "      fill: #1967D2;\n",
              "      height: 32px;\n",
              "      padding: 0 0 0 0;\n",
              "      width: 32px;\n",
              "    }\n",
              "\n",
              "    .colab-df-convert:hover {\n",
              "      background-color: #E2EBFA;\n",
              "      box-shadow: 0px 1px 2px rgba(60, 64, 67, 0.3), 0px 1px 3px 1px rgba(60, 64, 67, 0.15);\n",
              "      fill: #174EA6;\n",
              "    }\n",
              "\n",
              "    [theme=dark] .colab-df-convert {\n",
              "      background-color: #3B4455;\n",
              "      fill: #D2E3FC;\n",
              "    }\n",
              "\n",
              "    [theme=dark] .colab-df-convert:hover {\n",
              "      background-color: #434B5C;\n",
              "      box-shadow: 0px 1px 3px 1px rgba(0, 0, 0, 0.15);\n",
              "      filter: drop-shadow(0px 1px 2px rgba(0, 0, 0, 0.3));\n",
              "      fill: #FFFFFF;\n",
              "    }\n",
              "  </style>\n",
              "\n",
              "      <script>\n",
              "        const buttonEl =\n",
              "          document.querySelector('#df-f521c881-dc20-43c5-a082-ade47167d888 button.colab-df-convert');\n",
              "        buttonEl.style.display =\n",
              "          google.colab.kernel.accessAllowed ? 'block' : 'none';\n",
              "\n",
              "        async function convertToInteractive(key) {\n",
              "          const element = document.querySelector('#df-f521c881-dc20-43c5-a082-ade47167d888');\n",
              "          const dataTable =\n",
              "            await google.colab.kernel.invokeFunction('convertToInteractive',\n",
              "                                                     [key], {});\n",
              "          if (!dataTable) return;\n",
              "\n",
              "          const docLinkHtml = 'Like what you see? Visit the ' +\n",
              "            '<a target=\"_blank\" href=https://colab.research.google.com/notebooks/data_table.ipynb>data table notebook</a>'\n",
              "            + ' to learn more about interactive tables.';\n",
              "          element.innerHTML = '';\n",
              "          dataTable['output_type'] = 'display_data';\n",
              "          await google.colab.output.renderOutput(dataTable, element);\n",
              "          const docLink = document.createElement('div');\n",
              "          docLink.innerHTML = docLinkHtml;\n",
              "          element.appendChild(docLink);\n",
              "        }\n",
              "      </script>\n",
              "    </div>\n",
              "  </div>\n",
              "  "
            ]
          },
          "metadata": {},
          "execution_count": 19
        }
      ]
    },
    {
      "cell_type": "markdown",
      "source": [
        "Teniendo ya el promedio de todas las areas por barrio las ordenamos, como queremos el top 10 las ordenaremos descendientemente."
      ],
      "metadata": {
        "id": "NWAXBe3uyx-w"
      }
    },
    {
      "cell_type": "code",
      "source": [
        "top_10_areas = area_promedio_barrio.sort_values('Area', ascending=False)\n",
        "top_10_areas.head(10)\n"
      ],
      "metadata": {
        "colab": {
          "base_uri": "https://localhost:8080/",
          "height": 363
        },
        "id": "hGs1KI-Vs_xW",
        "outputId": "6253c8f0-646e-4041-e0d9-5d9c58bea8ce"
      },
      "execution_count": null,
      "outputs": [
        {
          "output_type": "execute_result",
          "data": {
            "text/plain": [
              "                    Barrio         Area\n",
              "92                 Modelia  4316.750000\n",
              "83              Libertador   642.000000\n",
              "11           Bosa Piamonte   400.000000\n",
              "73             La Soledad    378.625000\n",
              "114               Restrepo   336.500000\n",
              "127          Santa Librada   328.000000\n",
              "80              Las Ferias   320.000000\n",
              "124              Santa Ana   309.375000\n",
              "141               Veraguas   302.666667\n",
              "7    Bellavista Occidental   286.200000"
            ],
            "text/html": [
              "\n",
              "  <div id=\"df-f09c8769-bfe8-4670-8a23-f59fc8db2e7d\">\n",
              "    <div class=\"colab-df-container\">\n",
              "      <div>\n",
              "<style scoped>\n",
              "    .dataframe tbody tr th:only-of-type {\n",
              "        vertical-align: middle;\n",
              "    }\n",
              "\n",
              "    .dataframe tbody tr th {\n",
              "        vertical-align: top;\n",
              "    }\n",
              "\n",
              "    .dataframe thead th {\n",
              "        text-align: right;\n",
              "    }\n",
              "</style>\n",
              "<table border=\"1\" class=\"dataframe\">\n",
              "  <thead>\n",
              "    <tr style=\"text-align: right;\">\n",
              "      <th></th>\n",
              "      <th>Barrio</th>\n",
              "      <th>Area</th>\n",
              "    </tr>\n",
              "  </thead>\n",
              "  <tbody>\n",
              "    <tr>\n",
              "      <th>92</th>\n",
              "      <td>Modelia</td>\n",
              "      <td>4316.750000</td>\n",
              "    </tr>\n",
              "    <tr>\n",
              "      <th>83</th>\n",
              "      <td>Libertador</td>\n",
              "      <td>642.000000</td>\n",
              "    </tr>\n",
              "    <tr>\n",
              "      <th>11</th>\n",
              "      <td>Bosa Piamonte</td>\n",
              "      <td>400.000000</td>\n",
              "    </tr>\n",
              "    <tr>\n",
              "      <th>73</th>\n",
              "      <td>La Soledad</td>\n",
              "      <td>378.625000</td>\n",
              "    </tr>\n",
              "    <tr>\n",
              "      <th>114</th>\n",
              "      <td>Restrepo</td>\n",
              "      <td>336.500000</td>\n",
              "    </tr>\n",
              "    <tr>\n",
              "      <th>127</th>\n",
              "      <td>Santa Librada</td>\n",
              "      <td>328.000000</td>\n",
              "    </tr>\n",
              "    <tr>\n",
              "      <th>80</th>\n",
              "      <td>Las Ferias</td>\n",
              "      <td>320.000000</td>\n",
              "    </tr>\n",
              "    <tr>\n",
              "      <th>124</th>\n",
              "      <td>Santa Ana</td>\n",
              "      <td>309.375000</td>\n",
              "    </tr>\n",
              "    <tr>\n",
              "      <th>141</th>\n",
              "      <td>Veraguas</td>\n",
              "      <td>302.666667</td>\n",
              "    </tr>\n",
              "    <tr>\n",
              "      <th>7</th>\n",
              "      <td>Bellavista Occidental</td>\n",
              "      <td>286.200000</td>\n",
              "    </tr>\n",
              "  </tbody>\n",
              "</table>\n",
              "</div>\n",
              "      <button class=\"colab-df-convert\" onclick=\"convertToInteractive('df-f09c8769-bfe8-4670-8a23-f59fc8db2e7d')\"\n",
              "              title=\"Convert this dataframe to an interactive table.\"\n",
              "              style=\"display:none;\">\n",
              "        \n",
              "  <svg xmlns=\"http://www.w3.org/2000/svg\" height=\"24px\"viewBox=\"0 0 24 24\"\n",
              "       width=\"24px\">\n",
              "    <path d=\"M0 0h24v24H0V0z\" fill=\"none\"/>\n",
              "    <path d=\"M18.56 5.44l.94 2.06.94-2.06 2.06-.94-2.06-.94-.94-2.06-.94 2.06-2.06.94zm-11 1L8.5 8.5l.94-2.06 2.06-.94-2.06-.94L8.5 2.5l-.94 2.06-2.06.94zm10 10l.94 2.06.94-2.06 2.06-.94-2.06-.94-.94-2.06-.94 2.06-2.06.94z\"/><path d=\"M17.41 7.96l-1.37-1.37c-.4-.4-.92-.59-1.43-.59-.52 0-1.04.2-1.43.59L10.3 9.45l-7.72 7.72c-.78.78-.78 2.05 0 2.83L4 21.41c.39.39.9.59 1.41.59.51 0 1.02-.2 1.41-.59l7.78-7.78 2.81-2.81c.8-.78.8-2.07 0-2.86zM5.41 20L4 18.59l7.72-7.72 1.47 1.35L5.41 20z\"/>\n",
              "  </svg>\n",
              "      </button>\n",
              "      \n",
              "  <style>\n",
              "    .colab-df-container {\n",
              "      display:flex;\n",
              "      flex-wrap:wrap;\n",
              "      gap: 12px;\n",
              "    }\n",
              "\n",
              "    .colab-df-convert {\n",
              "      background-color: #E8F0FE;\n",
              "      border: none;\n",
              "      border-radius: 50%;\n",
              "      cursor: pointer;\n",
              "      display: none;\n",
              "      fill: #1967D2;\n",
              "      height: 32px;\n",
              "      padding: 0 0 0 0;\n",
              "      width: 32px;\n",
              "    }\n",
              "\n",
              "    .colab-df-convert:hover {\n",
              "      background-color: #E2EBFA;\n",
              "      box-shadow: 0px 1px 2px rgba(60, 64, 67, 0.3), 0px 1px 3px 1px rgba(60, 64, 67, 0.15);\n",
              "      fill: #174EA6;\n",
              "    }\n",
              "\n",
              "    [theme=dark] .colab-df-convert {\n",
              "      background-color: #3B4455;\n",
              "      fill: #D2E3FC;\n",
              "    }\n",
              "\n",
              "    [theme=dark] .colab-df-convert:hover {\n",
              "      background-color: #434B5C;\n",
              "      box-shadow: 0px 1px 3px 1px rgba(0, 0, 0, 0.15);\n",
              "      filter: drop-shadow(0px 1px 2px rgba(0, 0, 0, 0.3));\n",
              "      fill: #FFFFFF;\n",
              "    }\n",
              "  </style>\n",
              "\n",
              "      <script>\n",
              "        const buttonEl =\n",
              "          document.querySelector('#df-f09c8769-bfe8-4670-8a23-f59fc8db2e7d button.colab-df-convert');\n",
              "        buttonEl.style.display =\n",
              "          google.colab.kernel.accessAllowed ? 'block' : 'none';\n",
              "\n",
              "        async function convertToInteractive(key) {\n",
              "          const element = document.querySelector('#df-f09c8769-bfe8-4670-8a23-f59fc8db2e7d');\n",
              "          const dataTable =\n",
              "            await google.colab.kernel.invokeFunction('convertToInteractive',\n",
              "                                                     [key], {});\n",
              "          if (!dataTable) return;\n",
              "\n",
              "          const docLinkHtml = 'Like what you see? Visit the ' +\n",
              "            '<a target=\"_blank\" href=https://colab.research.google.com/notebooks/data_table.ipynb>data table notebook</a>'\n",
              "            + ' to learn more about interactive tables.';\n",
              "          element.innerHTML = '';\n",
              "          dataTable['output_type'] = 'display_data';\n",
              "          await google.colab.output.renderOutput(dataTable, element);\n",
              "          const docLink = document.createElement('div');\n",
              "          docLink.innerHTML = docLinkHtml;\n",
              "          element.appendChild(docLink);\n",
              "        }\n",
              "      </script>\n",
              "    </div>\n",
              "  </div>\n",
              "  "
            ]
          },
          "metadata": {},
          "execution_count": 30
        }
      ]
    },
    {
      "cell_type": "markdown",
      "source": [
        "Graficamos igual que en la clase\n"
      ],
      "metadata": {
        "id": "tl9ayv4izCuS"
      }
    },
    {
      "cell_type": "code",
      "source": [
        "top_10_areas.head(10).plot.bar()"
      ],
      "metadata": {
        "colab": {
          "base_uri": "https://localhost:8080/",
          "height": 291
        },
        "id": "4GEQfKd9qkGf",
        "outputId": "78fba1fb-62c2-4dbe-d89d-2590e2b19316"
      },
      "execution_count": null,
      "outputs": [
        {
          "output_type": "execute_result",
          "data": {
            "text/plain": [
              "<Axes: >"
            ]
          },
          "metadata": {},
          "execution_count": 31
        },
        {
          "output_type": "display_data",
          "data": {
            "text/plain": [
              "<Figure size 432x288 with 1 Axes>"
            ],
            "image/png": "[encoded data removed]"
          },
          "metadata": {
            "needs_background": "light"
          }
        }
      ]
    },
    {
      "cell_type": "code",
      "source": [
        "conteo_inmuebles = inmuebles.count()[0]\n",
        "conteo_inmuebles"
      ],
      "metadata": {
        "colab": {
          "base_uri": "https://localhost:8080/"
        },
        "id": "ZG1S4JHYzRDf",
        "outputId": "e96c5b76-7f6c-43ab-c039-199439e058f3"
      },
      "execution_count": null,
      "outputs": [
        {
          "output_type": "execute_result",
          "data": {
            "text/plain": [
              "9520"
            ]
          },
          "metadata": {},
          "execution_count": 32
        }
      ]
    },
    {
      "cell_type": "markdown",
      "source": [
        "El [0] al final de inmuebles.count()[0] se utiliza para obtener el conteo de la primera columna del DataFrame. Si no incluyéramos [0], el resultado sería un objeto Series que contiene el conteo de valores no nulos en cada columna del DataFrame, y no el conteo total de inmuebles."
      ],
      "metadata": {
        "id": "e9qN3up_z--C"
      }
    },
    {
      "cell_type": "markdown",
      "source": [
        "La mediana es el valor que ocupa el lugar central de todos los datos cuando éstos están ordenados de menor a mayor."
      ],
      "metadata": {
        "id": "VMfi_DXm0JRI"
      }
    },
    {
      "cell_type": "markdown",
      "source": [
        "Para sacar la mediana Pandas nos facilita la funcion .median() . Pero para poder usar los datos encontrados en la columna Valor tenemos que convertirlos en datos de tipo Float. para poder hacer esto tenemos que limpiar primero el string con replace para eliminar todos los simbolos y luego poder convertirlo con la funcion .astype()"
      ],
      "metadata": {
        "id": "84M4WHOB2D7t"
      }
    },
    {
      "cell_type": "code",
      "source": [
        "inmuebles['Valor'] = inmuebles['Valor'].str.replace(\"$\",\"\").str.replace(\".\", \"\").str.replace(\",\", \".\").astype(float)\n"
      ],
      "metadata": {
        "id": "A-8BR7TN0AEj"
      },
      "execution_count": null,
      "outputs": []
    },
    {
      "cell_type": "code",
      "source": [
        "inmuebles.info()  ## aqui podemos ver como ahora la columna Valor es de tipo Float\n"
      ],
      "metadata": {
        "colab": {
          "base_uri": "https://localhost:8080/"
        },
        "id": "1JFapp3U3BAX",
        "outputId": "546b48b1-beed-4b7b-ae93-9c1c9e97311f"
      },
      "execution_count": null,
      "outputs": [
        {
          "output_type": "stream",
          "name": "stdout",
          "text": [
            "<class 'pandas.core.frame.DataFrame'>\n",
            "RangeIndex: 9520 entries, 0 to 9519\n",
            "Data columns (total 8 columns):\n",
            " #   Column        Non-Null Count  Dtype  \n",
            "---  ------        --------------  -----  \n",
            " 0   Tipo          9520 non-null   object \n",
            " 1   Descripcion   9520 non-null   object \n",
            " 2   Habitaciones  9520 non-null   int64  \n",
            " 3   Banos         9520 non-null   int64  \n",
            " 4   Area          9520 non-null   int64  \n",
            " 5   Barrio        9520 non-null   object \n",
            " 6   UPZ           9478 non-null   object \n",
            " 7   Valor         9520 non-null   float64\n",
            "dtypes: float64(1), int64(3), object(4)\n",
            "memory usage: 595.1+ KB\n"
          ]
        }
      ]
    },
    {
      "cell_type": "markdown",
      "source": [
        "Utilizamos la funcion .median()"
      ],
      "metadata": {
        "id": "_IDvmSnh3KSD"
      }
    },
    {
      "cell_type": "code",
      "source": [
        "mediana_precios = inmuebles['Valor'].median()\n",
        "mediana_precios"
      ],
      "metadata": {
        "colab": {
          "base_uri": "https://localhost:8080/"
        },
        "id": "duNxhUo22JP5",
        "outputId": "84b7f019-8e91-4f73-f0ae-ce053dd95041"
      },
      "execution_count": null,
      "outputs": [
        {
          "output_type": "execute_result",
          "data": {
            "text/plain": [
              "409182500.0"
            ]
          },
          "metadata": {},
          "execution_count": 40
        }
      ]
    },
    {
      "cell_type": "markdown",
      "source": [
        "Ahora como nuestra columna valor es de tipo Float podemos hacer otras operaciones con ella como Sacar los valores minimos y maximos de los inmuebles"
      ],
      "metadata": {
        "id": "oNp7fomj3le0"
      }
    },
    {
      "cell_type": "code",
      "source": [
        "precio_minimo = inmuebles['Valor'].min()\n",
        "precio_minimo\n",
        "\n",
        "#Con la funcion Min() obtenemos el valor Minimo\n"
      ],
      "metadata": {
        "colab": {
          "base_uri": "https://localhost:8080/"
        },
        "id": "dMAEXCAO3qqp",
        "outputId": "05c0ead4-8dc3-420e-e2a6-6f394c342479"
      },
      "execution_count": null,
      "outputs": [
        {
          "output_type": "execute_result",
          "data": {
            "text/plain": [
              "60000000.0"
            ]
          },
          "metadata": {},
          "execution_count": 47
        }
      ]
    },
    {
      "cell_type": "code",
      "source": [
        "precio_maximo = inmuebles['Valor'].max()\n",
        "precio_maximo\n",
        "\n",
        "# Y con la funcion Max() el valor Maximo"
      ],
      "metadata": {
        "colab": {
          "base_uri": "https://localhost:8080/"
        },
        "id": "2_cERXOz4CQE",
        "outputId": "d2e8e518-f040-4657-eab3-8cf991f1dde8"
      },
      "execution_count": null,
      "outputs": [
        {
          "output_type": "execute_result",
          "data": {
            "text/plain": [
              "16000000000.0"
            ]
          },
          "metadata": {},
          "execution_count": 48
        }
      ]
    }
  ]
}